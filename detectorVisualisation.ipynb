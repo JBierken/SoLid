{
 "cells": [
  {
   "cell_type": "code",
   "execution_count": 1,
   "metadata": {
    "collapsed": true
   },
   "outputs": [],
   "source": [
    "import numpy as np\n",
    "import matplotlib as mpl\n",
    "import matplotlib.pyplot as plt\n",
    "from matplotlib import animation\n",
    "from ipywidgets import *\n",
    "from IPython.display import HTML\n",
    "import time\n",
    "import ffmpeg \n",
    "from matplotlib.animation import FuncAnimation\n",
    "import matplotlib.gridspec as gridspec\n",
    "from mpl_toolkits.mplot3d import Axes3D\n",
    "from mpl_toolkits.mplot3d import proj3d\n",
    "import uproot\n",
    "mpl.rcParams['animation.embed_limit'] = 2**128\n",
    "%matplotlib notebook"
   ]
  },
  {
   "cell_type": "code",
   "execution_count": 2,
   "metadata": {
    "collapsed": true
   },
   "outputs": [],
   "source": [
    "# Open data file\n",
    "fIn = uproot.open('S2-tuple.root')"
   ]
  },
  {
   "cell_type": "code",
   "execution_count": 3,
   "metadata": {
    "collapsed": true
   },
   "outputs": [],
   "source": [
    "# Select trees of interest\n",
    "clusterTree = fIn['DefaultReconstruction/clusters']\n",
    "muonTree = fIn['DefaultReconstruction/muons']\n",
    "runinfoTree = fIn['DefaultReconstruction/runInfos']\n",
    "\n",
    "# Select leaves of interest\n",
    "clusterTreeEntries=clusterTree.arrays(['start', 'rejected', 'MuonTag', 'NSTag', 'ESTag', 'MuonTreePos', 'chanID',\n",
    "                                       'chanActive', 'cubes', 'wfTreePos', 'chanAmplitude', 'onionLayer'])\n",
    "muonTreeEntries = muonTree.arrays(['htime','startCube','endCube','type','stopped', 'mx', 'cx', 'my', 'cy'])\n",
    "runTreeEntries = runinfoTree.arrays(['runNumber', 'runDuration', 'MuonsRate'])"
   ]
  },
  {
   "cell_type": "code",
   "execution_count": 4,
   "metadata": {
    "collapsed": true
   },
   "outputs": [],
   "source": [
    "#Make sure these are floating point values:\n",
    "scale_x = 5.0\n",
    "scale_y = 1.6\n",
    "scale_z = 1.6\n",
    "\n",
    "#Axes are scaled down to fit in scene\n",
    "max_scale=max(scale_x, scale_y, scale_z)\n",
    "\n",
    "scale_x=scale_x/max_scale\n",
    "scale_y=scale_y/max_scale\n",
    "scale_z=scale_z/max_scale\n",
    "\n",
    "#Create scaling matrix\n",
    "scale = np.array([[scale_x,0,0,0],[0,scale_y,0,0], [0,0,scale_z,0], [0,0,0,0.6]])\n",
    "\n",
    "def get_proj_scale(self):\n",
    "    \"\"\"\n",
    "    Create the projection matrix from the current viewing position.\n",
    "    elev stores the elevation angle in the z plane\n",
    "    azim stores the azimuth angle in the x,y plane\n",
    "    dist is the distance of the eye viewing point from the object point.\n",
    "    \"\"\"\n",
    "    relev, razim = np.pi * self.elev/180, np.pi * self.azim/180\n",
    "\n",
    "    xmin, xmax = self.get_xlim3d()\n",
    "    ymin, ymax = self.get_ylim3d()\n",
    "    zmin, zmax = self.get_zlim3d()\n",
    "\n",
    "    # transform to uniform world coordinates 0-1.0,0-1.0,0-1.0\n",
    "    worldM = proj3d.world_transformation(xmin, xmax, ymin, ymax, zmin, zmax)\n",
    "\n",
    "    # look into the middle of the new coordinates\n",
    "    R = np.array([1, 0.4, -0.3])\n",
    "\n",
    "    xp = R[0] + np.cos(razim) * np.cos(relev) * self.dist\n",
    "    yp = R[1] + np.sin(razim) * np.cos(relev) * self.dist\n",
    "    zp = R[2] + np.sin(relev) * self.dist\n",
    "    E = np.array((xp, yp, zp))\n",
    "\n",
    "    self.eye = E\n",
    "    self.vvec = R - E\n",
    "    self.vvec = self.vvec / proj3d.mod(self.vvec)\n",
    "\n",
    "    if abs(relev) > np.pi/2:\n",
    "        # upside down\n",
    "        V = np.array((0, 0, -1))\n",
    "    else:\n",
    "        V = np.array((0, 0, 1))\n",
    "    zfront, zback = -self.dist, self.dist\n",
    "\n",
    "    viewM = proj3d.view_transformation(E, R, V)\n",
    "    perspM = proj3d.persp_transformation(zfront, zback)\n",
    "    M0 = np.dot(viewM, worldM)\n",
    "    M = np.dot(perspM, M0)\n",
    "\n",
    "    return np.dot(M, scale);\n",
    "\n",
    "Axes3D.get_proj=get_proj_scale"
   ]
  },
  {
   "cell_type": "code",
   "execution_count": 5,
   "metadata": {},
   "outputs": [
    {
     "name": "stdout",
     "output_type": "stream",
     "text": [
      "for a measure time of 1.80 seconds of detector time, a minimum of 977 frames are required\n"
     ]
    }
   ],
   "source": [
    "measureTime = 1.8\n",
    "\n",
    "timer = 0  \n",
    "for iEntry in range(len(clusterTreeEntries['start'])):\n",
    "    if clusterTreeEntries['start'][iEntry] * 25e-9 < measureTime:\n",
    "        timer += 1\n",
    "\n",
    "print('for a measure time of {:.2f} seconds of detector time, a minimum of {:.0f} frames are required'.format(measureTime, timer))"
   ]
  },
  {
   "cell_type": "code",
   "execution_count": 6,
   "metadata": {
    "collapsed": true
   },
   "outputs": [],
   "source": [
    "def track(iEntry):\n",
    "    # prepare some coordinates\n",
    "    matrix = [[ [0 for col in range(16)] for col in range(16)] for row in range(50)]\n",
    "\n",
    "    for i in range(len(clusterTreeEntries['cubes'][iEntry])):\n",
    "        matrix[int(clusterTreeEntries['cubes'][iEntry][i][2])][int(clusterTreeEntries['cubes'][iEntry][i][0])][int(clusterTreeEntries['cubes'][iEntry][i][1])] = 1\n",
    "    \n",
    "    return matrix"
   ]
  },
  {
   "cell_type": "code",
   "execution_count": 7,
   "metadata": {
    "collapsed": true
   },
   "outputs": [],
   "source": [
    "%%capture\n",
    "x_min_anim, x_max_anim = 0, 50\n",
    "y_min_anim, y_max_anim = 0, 16\n",
    "z_min_anim, z_max_anim = 0, 16\n",
    "\n",
    "events_fig = plt.figure(figsize=(6, 7))\n",
    "gs = gridspec.GridSpec(nrows=1, ncols=1)\n",
    "ax_an_event = events_fig.add_subplot(gs[0, 0],projection='3d',xlabel=\"Z (Plane)\",ylabel=\"X (Cube)\",\n",
    "                                     zlabel=\"Y (Cube)\", xlim=(x_min_anim, x_max_anim),\n",
    "                                     ylim=(y_min_anim, y_max_anim), zlim=(z_min_anim, z_max_anim))\n",
    "ax_an_event.view_init(30, -130) "
   ]
  },
  {
   "cell_type": "code",
   "execution_count": 8,
   "metadata": {
    "collapsed": true
   },
   "outputs": [],
   "source": [
    "def animate_events(frame, entries2, time, nframes, filled, perc):    \n",
    "    events_fig.suptitle(r'Visualisation of {:.2f} seconds detector time'.format(time))    \n",
    "    \n",
    "    if not filled:\n",
    "        #we start with a clear plot\n",
    "        ax_an_event.clear()\n",
    "    \n",
    "    if entries2[frame] != 0:\n",
    "        \n",
    "        #calculate track\n",
    "        matrix = track(entries2[frame])\n",
    "        \n",
    "        #draw event\n",
    "        if clusterTreeEntries['MuonTag'][entries2[frame]]:\n",
    "            ax_an_event.voxels(np.array(matrix), facecolors='#0000FF75', edgecolor='#08298A75')\n",
    "        elif clusterTreeEntries['ESTag'][entries2[frame]]:\n",
    "            ax_an_event.voxels(np.array(matrix), facecolors='#FF000075', edgecolor='#DF010175')\n",
    "        else:\n",
    "            ax_an_event.voxels(np.array(matrix), facecolors='#80FF0075', edgecolor='#29870875')\n",
    "            \n",
    "    else:\n",
    "        matrix = [[ [0 for col in range(16)] for col in range(16)] for row in range(50)]\n",
    "        #the colors are of no importance here and are chosen arbitrarily\n",
    "        ax_an_event.voxels(np.array(matrix), facecolors='blue', edgecolor='darkblue') \n",
    "    \n",
    "    # show calculation progress\n",
    "    load.value += 1/nframes*100\n",
    "    perc += 1/nframes*100\n",
    "    print('{:.2f}%'.format(load.value), end=\"\\r\")\n",
    "    frame+=1\n",
    "    \n",
    "    return [events_fig]"
   ]
  },
  {
   "cell_type": "code",
   "execution_count": 9,
   "metadata": {
    "collapsed": true
   },
   "outputs": [],
   "source": [
    "def anim(a):\n",
    "    load.value = 0  # loading bar value\n",
    "    perc = 0  # percent done\n",
    "    frame = 0 #which frame are we on\n",
    "    \n",
    "    #we start with a clear plot\n",
    "    ax_an_event.clear()\n",
    "    \n",
    "    #create a data list\n",
    "    time_axis = np.linspace(0, time_anim.value, frames_anim.value)\n",
    "    entries = []\n",
    "    entries2 = np.zeros(frames_anim.value, dtype=int)\n",
    "    for iEntry in range(len(clusterTreeEntries['start'])):\n",
    "        if clusterTreeEntries['start'][iEntry] * 25e-9 < time_anim.value:\n",
    "            entries.append(iEntry)\n",
    "\n",
    "    for iEntry in entries:\n",
    "        for i in range(len(time_axis) - 1):\n",
    "            if (time_axis[i] <= clusterTreeEntries['start'][iEntry] * 25e-9) and (clusterTreeEntries['start'][iEntry] * 25e-9 <= time_axis[i+1]):\n",
    "                entries2[i] = iEntry\n",
    "  \n",
    "    anim = FuncAnimation(events_fig, animate_events, frames=frames_anim.value, \n",
    "                         fargs=(entries2, time_anim.value, frames_anim.value, filled.value, perc), blit=True, interval=50)\n",
    "    \n",
    "    #should the animation be displayed or saved\n",
    "    if disp.value:\n",
    "        display(HTML(anim.to_jshtml()))\n",
    "    else:\n",
    "        anim.save('{}.mp4'.format(save.value))"
   ]
  },
  {
   "cell_type": "code",
   "execution_count": 10,
   "metadata": {
    "collapsed": true
   },
   "outputs": [],
   "source": [
    "# interactive settings for animation\n",
    "style = {'description_width': 'initial'}\n",
    "time_anim = FloatSlider(description=\"time\", min=0, max=5, step=0.01, value=0.20)\n",
    "frames_anim = IntSlider(description=\"frames\", min=500, max=3000, value=1000)\n",
    "\n",
    "param = VBox([time_anim, frames_anim])\n",
    "\n",
    "disp = Dropdown(options=[(\"Display\", True), (\"Save\", False)], Value=True, description='Output')\n",
    "filled = Dropdown(options=[(\"Without filled\", False), (\"With filled\", True)], Value=False, description='Filled')\n",
    "save = Text(description='Save name', value='detectorAnimation')\n",
    "output = VBox([filled, disp, save])\n",
    "\n",
    "start_anim = Button(description='Create animation')\n",
    "start_anim.on_click(anim)\n",
    "\n",
    "load = FloatProgress(min=0, max=100, description='Loading:', style=style)\n",
    "\n",
    "children = [param, output]\n",
    "tab = Tab()\n",
    "tab.children = children\n",
    "tab.set_title(0, 'Parameters')\n",
    "tab.set_title(1, 'Output')\n",
    "\n",
    "ui = VBox([tab, start_anim, load])"
   ]
  },
  {
   "cell_type": "code",
   "execution_count": 11,
   "metadata": {},
   "outputs": [
    {
     "data": {
      "application/vnd.jupyter.widget-view+json": {
       "model_id": "dc67b604b032410f86d0252c78709cd4",
       "version_major": 2,
       "version_minor": 0
      },
      "text/plain": [
       "A Jupyter Widget"
      ]
     },
     "metadata": {},
     "output_type": "display_data"
    }
   ],
   "source": [
    "display(ui)"
   ]
  },
  {
   "cell_type": "code",
   "execution_count": null,
   "metadata": {
    "collapsed": true
   },
   "outputs": [],
   "source": []
  }
 ],
 "metadata": {
  "kernelspec": {
   "display_name": "Python 3.6.3 64-bit ('base': conda)",
   "language": "python",
   "name": "python363jvsc74a57bd0c0da6c8849ca66433d5207ae1e5d9a2a8314e6945099706703e4d29c6eafe123"
  },
  "language_info": {
   "codemirror_mode": {
    "name": "ipython",
    "version": 3
   },
   "file_extension": ".py",
   "mimetype": "text/x-python",
   "name": "python",
   "nbconvert_exporter": "python",
   "pygments_lexer": "ipython3",
   "version": "3.6.3"
  }
 },
 "nbformat": 4,
 "nbformat_minor": 2
}
